{
 "cells": [
  {
   "cell_type": "markdown",
   "id": "2d300f70",
   "metadata": {},
   "source": [
    "### Experimental Setup\n",
    "After clicking on \"start free trial\", students would see a screen which asks how many hours a week they can commit to studying. The screen is meant to improve the overall student experience as it would reduce the number of frustrated students because students who respond with fewer than 5 hours a week receive a message saying that Udacity courses usually require more time commitment and that they should access the course materials for free. They then can decide to access the materials for free or sign up for a free trial. For the more serious learners as indicated by studying 5 or more hours a week, they would would be taken through the checkout process as usual and get a free trial. \n",
    "\n",
    "The idea is that directing students to appropriate level of learning improves the overall student experience and coaches'capacity to support students.\n",
    "\n",
    "**Null Hypothesis**: Adding the screen does not make significant change in reducing early course cancellation. \n",
    "\n",
    "The hypothesis was that this might set clearer expectations for students upfront, thus reducing the number of frustrated students who would drop out from the free trial because they didn't have enough time—without significantly reducing the number of students to continue past the free trial and eventually complete the course. If this hypothesis held true, Udacity could improve the overall student experience and improve coaches' capacity to support students who are likely to complete the course.\n",
    "\n",
    "The unit of diversion is a cookie, although if the student enrolls in the free trial, they are tracked by user-id from that point forward. The same user-id cannot enroll in the free trial twice. For users that do not enroll, their user-id is not tracked in the experiment, even if they were signed in when they visited the course overview page.\n",
    "\n"
   ]
  },
  {
   "cell_type": "markdown",
   "id": "d741fee1",
   "metadata": {},
   "source": [
    "### Experimental Design\n",
    "\n",
    "#### Metric Choice\n",
    "**Invariant metrics**: They are metrics that remain invariant throughout the experiment. We use them for sanity checks by testing to see whether these metrics remain the same in both the control and experiment groups. \n",
    "- Number of cookies: That is, number of unique cookies to view the course overview page.\n",
    "- Number of clicks: That is, the number of unique cookies to click the “Start free trial” button (which happens before the free trial screener is a trigger).\n",
    "- Click-through-probability: That is, number of unique cookies to click the “Start free trial” button divided by number of unique cookies to view the course overview page.\n",
    "\n",
    "**Evaluation metrics**: They are metrics that we care about. These are the metrics to watch for, to see if they move in the direction that we have theorized prior to the experiment and if the change is sizable enough to continue with the experiment.\n",
    "\n",
    "- Gross conversion: That is, the number of user-ids to complete checkout and enroll in the free trial divided by the number of unique cookies to click the “Start free trial” button. (dmin= 0.01)\n",
    "- Retention: That is, the number of user-ids to remain enrolled past the 14-day boundary (and thus make at least one payment) divided by number of user-ids to complete checkout. (dmin=0.01)\n",
    "- Net conversion: That is, number of user-ids to remain enrolled past the 14-day boundary (and thus make at least one payment) divided by the number of unique cookies to click the “Start free trial” button. (dmin= 0.0075)\n"
   ]
  },
  {
   "cell_type": "markdown",
   "id": "43d4a136",
   "metadata": {},
   "source": [
    "#### Calculating Standard Deviation\n",
    "Audacity provides a table of baseline values.\n",
    "\n",
    "\n",
    "| Metric | Baseline Value |\n",
    "| --- | --- | \n",
    "| Unique cookies to view course overview page per day | 40000|\n",
    "| Unique cookies to click \"Start free trial\" per day | 3200|\n",
    "| Enrollments per day | 660 |\n",
    "| Click-through-probability on \"Start free trial\" |  0.08 |\n",
    "| Probability of enrolling, given click | 0.20625 |\n",
    "| Probability of payment, given enroll | 0.53 |\n",
    "| Probability of payment, given click | 0.1093125 |\n",
    "\n",
    "For each metric selected as an evaluation metric, I calculate analytical estimate of its standard deviation, given the sample size of 5000 cookies visiting the course overview page. \n",
    "\n",
    "We take that the event of clicking/paying follows the binomial distribution. \n",
    "The formula to estimate the standard deviation of success is below. \n",
    "\n",
    "Standard Deviation of $\\hat{P}$ = $\\sqrt{\\frac{P(1-P)}{N}}$\n",
    "\n",
    "- Standard deviation for Estimated Probability of Gross conversion is equal to $\\sqrt{\\frac{0.20625(1-0.20625)}{5000*0.08}}$ = 0.0202\n",
    "- Standard deviation for Estimated Probability of Retention is equal to $\\sqrt{\\frac{0.53(1-0.53)}{5000*(660/40000)}}$ = 0.0549\n",
    "- Standard deviation for Estimated Probability of Net Conversion is equal to $\\sqrt{\\frac{0.1093125(1-0.0.1093125 )}{5000*0.08)}}$ = 0.0156"
   ]
  },
  {
   "cell_type": "code",
   "execution_count": 172,
   "id": "4b50e7f7",
   "metadata": {},
   "outputs": [
    {
     "name": "stdout",
     "output_type": "stream",
     "text": [
      "0.020230604137049392\n"
     ]
    }
   ],
   "source": [
    "# Standard deviation for Estimated Probability of Gross conversion  \n",
    "# N = number of unique cookies to click the “Start free trial” button where we have 5000 cookies and probability of them \n",
    "# clicking \"Start free trial\" is 0.08\n",
    "# and the probablity of them clicking on \"Start free trial\" is 0.08 and P = 0.20625.\n",
    "# we'll use the fraction or proportion of successes so we'll divide by n\n",
    "from scipy.stats import binom\n",
    "n = 5000*0.08\n",
    "p = 0.20625\n",
    "print((binom.std(n,p))/n)\n"
   ]
  },
  {
   "cell_type": "code",
   "execution_count": 173,
   "id": "91904eed",
   "metadata": {
    "scrolled": true
   },
   "outputs": [
    {
     "name": "stdout",
     "output_type": "stream",
     "text": [
      "0.05494901217850908\n"
     ]
    }
   ],
   "source": [
    "# Standard deviation for Estimated Probability for Retention\n",
    "# To calculate N, we'll need to multiply 5000 cookies by baseline fraction of the cookies enrolling, which is 5000*(660/40000)\n",
    "# P = 0.53\n",
    "# we'll use the fraction or proportion of successes so we'll divide by n\n",
    "from scipy.stats import binom\n",
    "n = 5000*(660/40000)\n",
    "p = 0.53\n",
    "print((binom.std(n,p))/n)"
   ]
  },
  {
   "cell_type": "code",
   "execution_count": 174,
   "id": "029cc995",
   "metadata": {},
   "outputs": [
    {
     "name": "stdout",
     "output_type": "stream",
     "text": [
      "0.015601544582488459\n"
     ]
    }
   ],
   "source": [
    "# Standard deviation for Estimated Probablity of Net Conversion \n",
    "# N = number of unique cookies to click the “Start free trial” button where we have 5000 cookies and probability of them \n",
    "# clicking \"Start free trial\" is 0.08\n",
    "# P = 0.1093125\n",
    "n = 5000*(0.08)\n",
    "p = 0.1093125\n",
    "print((binom.std(n,p))/n)"
   ]
  },
  {
   "cell_type": "markdown",
   "id": "7375db47",
   "metadata": {},
   "source": [
    "### Determination of the Sample Size\n",
    "We'll calculate the sample size for the selected evaluation metrics using $\\alpha$ = 0.05 and $\\beta$ = 0.20.\n",
    "\n",
    "We'll use the [online sample size calculator](https://www.evanmiller.org/ab-testing/sample-size.html). \n",
    "- Clicks required for Gross Conversion: 25,835\n",
    "    -  Baseline conversion rate: 0.20625, mininum detectable effect (dmin = 0.01)\n",
    "- Clicks required for Retention: 39115\n",
    "    - Baseline conversion rate: 0.53, minimum detectable effect (dmin = 0.01)\n",
    "- Clicks for Net Conversion: 27,413\n",
    "    - Baseline conversion rate: 0.1093125 , minimum detectable effect(dmin= 0.0075)\n",
    "    \n",
    "With the control and experiment groups, we'll need to multiply the numbers above by 2 and we'll adjust with the click to pageview rate.\n",
    "\n",
    "| Metrics | # Pageviews Required |\n",
    "| --- | --- | \n",
    "|Gross Conversion |(288535 X 2)/0.08 = 645875|\n",
    "|Retention|(39115 X 2)/(660/40000) = 4741212|\n",
    "|Net Conversion|(27413 X 2)/0.08 = 685325|\n",
    "\n",
    "To test all three metrics, we'll need 4,741,212 pageviews. "
   ]
  },
  {
   "cell_type": "markdown",
   "id": "43d1c0b6",
   "metadata": {},
   "source": [
    "### Duration and Exposure\n",
    "Keeping number of pageviews required to detect an effect in mind, we need to think about how long we need to run the experiment. \n",
    "\n",
    "There are 40,000 pageviews a day, that would take about 119 (4741212/40000) days if we get all the traffic for this experiment. Since the retention evaluation metric requires much more power, we can think about testing only the **gross conversion** and **net conversion** metrics. This would bring the experiment days to about 17 (6855325/40000) at 100% diversion and about 36 days at 50% diversion. We can divert more traffic and have it between 17 and 36 days and it'll still be long enough to observe the 14 day enrollment. \n",
    "\n"
   ]
  },
  {
   "cell_type": "markdown",
   "id": "d9fc1eea",
   "metadata": {},
   "source": [
    "### Experiment Analysis\n",
    "The data for analysis is [here](https://docs.google.com/spreadsheets/d/1wTXzNVkMgVG2bzTGJeQ95jbMlfcAiVrQBRANzUdHGe0/edit?usp=sharing)\n",
    "#### Sanity Checks\n",
    "\n",
    "Sanity checks are tests to ensure that the invariant metrics are statistically equivalent in the control and experiment groups. Our invariant metrics are number of cookies, number of clicks, and click-through_probability. We test for equal diversion at the 95% confidence interval. \n",
    "\n",
    "See below for detail calculations. Margin of error for 95% confidence interval (z = 1.96). The observed values are within the corresponding confidence intervals. The result is that these invariant metrics pass the sanity checks. \n",
    "\n",
    "| Metrics | Expected Value | Observed Value | CI Lower Bound| CI Upper Bound | Result|\n",
    "| --- | --- | --- | --- | --- | --- |\n",
    "|Number of Pageviews/Cookies|0.5|0.5006|0.4988|0.5012| Pass|\n",
    "|Number of clicks on \"Start free trial\"|0.5|0.5005|0.4959|0.5041|Pass|\n",
    "|Click-through-Probablity|0|0.00005|-0.0012|0.0013|Pass|\n"
   ]
  },
  {
   "cell_type": "code",
   "execution_count": 175,
   "id": "d44f5833",
   "metadata": {},
   "outputs": [],
   "source": [
    "import pandas as pd\n",
    "import numpy as np"
   ]
  },
  {
   "cell_type": "code",
   "execution_count": 176,
   "id": "a5ee3b32",
   "metadata": {},
   "outputs": [
    {
     "data": {
      "text/html": [
       "<div>\n",
       "<style scoped>\n",
       "    .dataframe tbody tr th:only-of-type {\n",
       "        vertical-align: middle;\n",
       "    }\n",
       "\n",
       "    .dataframe tbody tr th {\n",
       "        vertical-align: top;\n",
       "    }\n",
       "\n",
       "    .dataframe thead th {\n",
       "        text-align: right;\n",
       "    }\n",
       "</style>\n",
       "<table border=\"1\" class=\"dataframe\">\n",
       "  <thead>\n",
       "    <tr style=\"text-align: right;\">\n",
       "      <th></th>\n",
       "      <th>Date</th>\n",
       "      <th>Pageviews</th>\n",
       "      <th>Clicks</th>\n",
       "      <th>Enrollments</th>\n",
       "      <th>Payments</th>\n",
       "    </tr>\n",
       "  </thead>\n",
       "  <tbody>\n",
       "    <tr>\n",
       "      <th>0</th>\n",
       "      <td>Sat, Oct 11</td>\n",
       "      <td>7716</td>\n",
       "      <td>686</td>\n",
       "      <td>105.0</td>\n",
       "      <td>34.0</td>\n",
       "    </tr>\n",
       "    <tr>\n",
       "      <th>1</th>\n",
       "      <td>Sun, Oct 12</td>\n",
       "      <td>9288</td>\n",
       "      <td>785</td>\n",
       "      <td>116.0</td>\n",
       "      <td>91.0</td>\n",
       "    </tr>\n",
       "    <tr>\n",
       "      <th>2</th>\n",
       "      <td>Mon, Oct 13</td>\n",
       "      <td>10480</td>\n",
       "      <td>884</td>\n",
       "      <td>145.0</td>\n",
       "      <td>79.0</td>\n",
       "    </tr>\n",
       "    <tr>\n",
       "      <th>3</th>\n",
       "      <td>Tue, Oct 14</td>\n",
       "      <td>9867</td>\n",
       "      <td>827</td>\n",
       "      <td>138.0</td>\n",
       "      <td>92.0</td>\n",
       "    </tr>\n",
       "    <tr>\n",
       "      <th>4</th>\n",
       "      <td>Wed, Oct 15</td>\n",
       "      <td>9793</td>\n",
       "      <td>832</td>\n",
       "      <td>140.0</td>\n",
       "      <td>94.0</td>\n",
       "    </tr>\n",
       "  </tbody>\n",
       "</table>\n",
       "</div>"
      ],
      "text/plain": [
       "          Date  Pageviews  Clicks  Enrollments  Payments\n",
       "0  Sat, Oct 11       7716     686        105.0      34.0\n",
       "1  Sun, Oct 12       9288     785        116.0      91.0\n",
       "2  Mon, Oct 13      10480     884        145.0      79.0\n",
       "3  Tue, Oct 14       9867     827        138.0      92.0\n",
       "4  Wed, Oct 15       9793     832        140.0      94.0"
      ]
     },
     "execution_count": 176,
     "metadata": {},
     "output_type": "execute_result"
    }
   ],
   "source": [
    "df_control = pd.read_csv(\"ABTesting_ControlData.csv\")\n",
    "df_experiment = pd.read_csv(\"ABTesting_ExperimentData.csv\")\n",
    "df_control.head()\n",
    "df_experiment.head()"
   ]
  },
  {
   "cell_type": "code",
   "execution_count": 177,
   "id": "a96735ae",
   "metadata": {},
   "outputs": [
    {
     "data": {
      "text/html": [
       "<div>\n",
       "<style scoped>\n",
       "    .dataframe tbody tr th:only-of-type {\n",
       "        vertical-align: middle;\n",
       "    }\n",
       "\n",
       "    .dataframe tbody tr th {\n",
       "        vertical-align: top;\n",
       "    }\n",
       "\n",
       "    .dataframe thead th {\n",
       "        text-align: right;\n",
       "    }\n",
       "</style>\n",
       "<table border=\"1\" class=\"dataframe\">\n",
       "  <thead>\n",
       "    <tr style=\"text-align: right;\">\n",
       "      <th></th>\n",
       "      <th>Date</th>\n",
       "      <th>Pageviews</th>\n",
       "      <th>Clicks</th>\n",
       "      <th>Enrollments</th>\n",
       "      <th>Payments</th>\n",
       "      <th>Group</th>\n",
       "    </tr>\n",
       "  </thead>\n",
       "  <tbody>\n",
       "    <tr>\n",
       "      <th>0</th>\n",
       "      <td>Sat, Oct 11</td>\n",
       "      <td>7723</td>\n",
       "      <td>687</td>\n",
       "      <td>134.0</td>\n",
       "      <td>70.0</td>\n",
       "      <td>Control</td>\n",
       "    </tr>\n",
       "    <tr>\n",
       "      <th>1</th>\n",
       "      <td>Sun, Oct 12</td>\n",
       "      <td>9102</td>\n",
       "      <td>779</td>\n",
       "      <td>147.0</td>\n",
       "      <td>70.0</td>\n",
       "      <td>Control</td>\n",
       "    </tr>\n",
       "    <tr>\n",
       "      <th>2</th>\n",
       "      <td>Mon, Oct 13</td>\n",
       "      <td>10511</td>\n",
       "      <td>909</td>\n",
       "      <td>167.0</td>\n",
       "      <td>95.0</td>\n",
       "      <td>Control</td>\n",
       "    </tr>\n",
       "    <tr>\n",
       "      <th>3</th>\n",
       "      <td>Tue, Oct 14</td>\n",
       "      <td>9871</td>\n",
       "      <td>836</td>\n",
       "      <td>156.0</td>\n",
       "      <td>105.0</td>\n",
       "      <td>Control</td>\n",
       "    </tr>\n",
       "    <tr>\n",
       "      <th>4</th>\n",
       "      <td>Wed, Oct 15</td>\n",
       "      <td>10014</td>\n",
       "      <td>837</td>\n",
       "      <td>163.0</td>\n",
       "      <td>64.0</td>\n",
       "      <td>Control</td>\n",
       "    </tr>\n",
       "    <tr>\n",
       "      <th>...</th>\n",
       "      <td>...</td>\n",
       "      <td>...</td>\n",
       "      <td>...</td>\n",
       "      <td>...</td>\n",
       "      <td>...</td>\n",
       "      <td>...</td>\n",
       "    </tr>\n",
       "    <tr>\n",
       "      <th>32</th>\n",
       "      <td>Wed, Nov 12</td>\n",
       "      <td>10042</td>\n",
       "      <td>802</td>\n",
       "      <td>NaN</td>\n",
       "      <td>NaN</td>\n",
       "      <td>Experiment</td>\n",
       "    </tr>\n",
       "    <tr>\n",
       "      <th>33</th>\n",
       "      <td>Thu, Nov 13</td>\n",
       "      <td>9721</td>\n",
       "      <td>829</td>\n",
       "      <td>NaN</td>\n",
       "      <td>NaN</td>\n",
       "      <td>Experiment</td>\n",
       "    </tr>\n",
       "    <tr>\n",
       "      <th>34</th>\n",
       "      <td>Fri, Nov 14</td>\n",
       "      <td>9304</td>\n",
       "      <td>770</td>\n",
       "      <td>NaN</td>\n",
       "      <td>NaN</td>\n",
       "      <td>Experiment</td>\n",
       "    </tr>\n",
       "    <tr>\n",
       "      <th>35</th>\n",
       "      <td>Sat, Nov 15</td>\n",
       "      <td>8668</td>\n",
       "      <td>724</td>\n",
       "      <td>NaN</td>\n",
       "      <td>NaN</td>\n",
       "      <td>Experiment</td>\n",
       "    </tr>\n",
       "    <tr>\n",
       "      <th>36</th>\n",
       "      <td>Sun, Nov 16</td>\n",
       "      <td>8988</td>\n",
       "      <td>710</td>\n",
       "      <td>NaN</td>\n",
       "      <td>NaN</td>\n",
       "      <td>Experiment</td>\n",
       "    </tr>\n",
       "  </tbody>\n",
       "</table>\n",
       "<p>74 rows × 6 columns</p>\n",
       "</div>"
      ],
      "text/plain": [
       "           Date  Pageviews  Clicks  Enrollments  Payments       Group\n",
       "0   Sat, Oct 11       7723     687        134.0      70.0     Control\n",
       "1   Sun, Oct 12       9102     779        147.0      70.0     Control\n",
       "2   Mon, Oct 13      10511     909        167.0      95.0     Control\n",
       "3   Tue, Oct 14       9871     836        156.0     105.0     Control\n",
       "4   Wed, Oct 15      10014     837        163.0      64.0     Control\n",
       "..          ...        ...     ...          ...       ...         ...\n",
       "32  Wed, Nov 12      10042     802          NaN       NaN  Experiment\n",
       "33  Thu, Nov 13       9721     829          NaN       NaN  Experiment\n",
       "34  Fri, Nov 14       9304     770          NaN       NaN  Experiment\n",
       "35  Sat, Nov 15       8668     724          NaN       NaN  Experiment\n",
       "36  Sun, Nov 16       8988     710          NaN       NaN  Experiment\n",
       "\n",
       "[74 rows x 6 columns]"
      ]
     },
     "execution_count": 177,
     "metadata": {},
     "output_type": "execute_result"
    }
   ],
   "source": [
    "# We'll append the two dataframes together\n",
    "df_control['Group'] = \"Control\"\n",
    "df_experiment['Group'] = \"Experiment\"\n",
    "df_control.head()\n",
    "df_experiment.head()\n",
    "df_control.Clicks.sum()\n",
    "df_alldata = df_control.append(df_experiment)\n",
    "df_alldata"
   ]
  },
  {
   "cell_type": "code",
   "execution_count": 178,
   "id": "7e3c10d6",
   "metadata": {},
   "outputs": [
    {
     "name": "stdout",
     "output_type": "stream",
     "text": [
      "               sum         mean         std            var\n",
      "Group                                                     \n",
      "Control     345543  9339.000000  740.239563  547954.611111\n",
      "Experiment  344660  9315.135135  708.070781  501364.231231\n",
      "0.5006396668806133 0.0006018407402943247 0.0011796078509768765 0.49882039214902313 0.5011796078509769\n"
     ]
    }
   ],
   "source": [
    "# Pageviews\n",
    "aggs_pageviews = df_alldata.groupby('Group')['Pageviews'].agg([np.sum, np.mean, np.std, np.var])\n",
    "\n",
    "diff_pageviews =  df_control.Pageviews.sum()/df_alldata.Pageviews.sum()\n",
    "print(aggs_pageviews)\n",
    "# Pageviews Standard error\n",
    "# We expect that the total number of pageviews in the control group and the experiment \n",
    "# group each account for 50% of the total number of cookies.\n",
    "p = 0.5\n",
    "SE_pageviews = np.sqrt((p * (1- p))/df_alldata.Pageviews.sum())\n",
    "\n",
    "## margin of error for 95% confidence interval (z = 1.96)\n",
    "\n",
    "ME_pageviews = SE_pageviews * 1.96\n",
    "CI_upper_pageview = p + ME_pageviews\n",
    "CI_lower_pageview = p - ME_pageviews\n",
    "\n",
    "print( diff_pageviews, SE_pageviews, ME_pageviews, CI_lower_pageview, CI_upper_pageview)"
   ]
  },
  {
   "cell_type": "code",
   "execution_count": 179,
   "id": "c17694bb",
   "metadata": {
    "scrolled": true
   },
   "outputs": [
    {
     "name": "stdout",
     "output_type": "stream",
     "text": [
      "              sum        mean        std          var\n",
      "Group                                                \n",
      "Control     28378  766.972973  68.286767  4663.082583\n",
      "Experiment  28325  765.540541  64.578374  4170.366366\n",
      "0.5004673474066628 0.0041155042762105335 0.002099747079699252 0.49588449572378945 0.5041155042762105\n"
     ]
    }
   ],
   "source": [
    "# Clicks\n",
    "aggs_clicks = df_alldata.groupby('Group')['Clicks'].agg([np.sum, np.mean, np.std, np.var])\n",
    "print(aggs_clicks)\n",
    "diff_clicks =  df_control.Clicks.sum()/df_alldata.Clicks.sum()\n",
    "\n",
    "# Clicks Standard error\n",
    "df_alldata.Pageviews.sum()\n",
    "# We expect that the total number of clicks in the control group and the experiment \n",
    "# group each account for 50% of the total number of cookies.\n",
    "p = 0.5\n",
    "SE_clicks = np.sqrt((p * (1- p))/df_alldata.Clicks.sum())\n",
    "## margin of error for 95% confidence interval (z = 1.96)\n",
    "ME_clicks = SE_clicks * 1.96\n",
    "CI_upper_clicks = p + ME_clicks\n",
    "CI_lower_clicks = p - ME_clicks\n",
    "\n",
    "print( diff_clicks, ME_clicks, SE_clicks, CI_lower_clicks, CI_upper_clicks)"
   ]
  },
  {
   "cell_type": "markdown",
   "id": "8e07e842",
   "metadata": {},
   "source": [
    "To perform sanity check for the Click Through Probability, we would expect that the difference between the two groups be zero.\n",
    "Standard Deviation of two porportions = $\\sqrt{\\frac{p_1(1-p_1)}{n_1} + \\frac{p_2(1-p_2)}{n_2}}$\n"
   ]
  },
  {
   "cell_type": "code",
   "execution_count": 180,
   "id": "b7b97f6f",
   "metadata": {},
   "outputs": [
    {
     "name": "stdout",
     "output_type": "stream",
     "text": [
      "0.08212581357457682\n",
      "0.08218244066616376\n",
      "5.662709158693602e-05 0.0012956797119073678 0.0006610610775037591 0.0013523068034943038 -0.0012390526203204318\n"
     ]
    }
   ],
   "source": [
    "# click through probability (clicks/cookies)\n",
    "\n",
    "## control value \n",
    "cont_p_hat = df_control.Clicks.sum()/df_control.Pageviews.sum()\n",
    "print(cont_p1_hat)\n",
    "\n",
    "## experimental value\n",
    "exp_p_hat = df_experiment.Clicks.sum()/df_experiment.Pageviews.sum()\n",
    "print(exp_p_hat)\n",
    "\n",
    "## observed difference\n",
    "diff_ClickProb = exp_p_hat - cont_p_hat\n",
    "\n",
    "# We expect the difference to be 0. Let's see if this is the case.\n",
    "\n",
    "## Standard Error\n",
    "\n",
    "SE_ClickProb = np.sqrt((cont_p_hat*(1-cont_p_hat)/df_control.Pageviews.sum()) + (exp_p_hat*(1-exp_p_hat))/df_experiment.Pageviews.sum())\n",
    "\n",
    "## margin of error for 95% confidence interval (z = 1.96)\n",
    "\n",
    "ME_ClickProb = SE_ClickProb * 1.96\n",
    "\n",
    "## CI\n",
    "upper_ClickProb = (exp_p_hat - cont_p_hat) + ME_ClickProb\n",
    "lower_ClickProb = (exp_p_hat - cont_p_hat) - ME_ClickProb\n",
    "print(diff_ClickProb, ME_ClickProb, SE_ClickProb, upper_ClickProb, lower_ClickProb)"
   ]
  },
  {
   "cell_type": "markdown",
   "id": "cb5302ac",
   "metadata": {},
   "source": [
    "#### Effect Size Tests\n",
    "A metric is statistically significant if the confidence interval does not include 0 (that is, you can be confident there was a change), and it is practically significant if the confidence interval does not include the practical significance boundary (that is, you can be confident there is a change that matters to the business.)\n",
    "\n",
    "We'll check on the gross conversion and net conversion metrics.\n",
    "Please see below for detailed calculations.\n",
    "\n",
    "| Metrics | dmin | Observed Difference | CI Lower Bound| CI Upper Bound | Result|\n",
    "| --- | --- | --- | --- | --- | --- |\n",
    "|Gross Conversion|0.01|-0.0205|-0.0291|-0.012|Statistically and practically significant|\n",
    "|Net Conversion|0.0075|-0.0048|-0.0116|0.0019|Neither Statisitical nor practically significant|"
   ]
  },
  {
   "cell_type": "code",
   "execution_count": 181,
   "id": "2f7728d8",
   "metadata": {},
   "outputs": [
    {
     "name": "stdout",
     "output_type": "stream",
     "text": [
      "-0.020554874580361565 0.008565445227686982 0.004370125116166828 -0.011989429352674583 -0.029120319808048547\n"
     ]
    }
   ],
   "source": [
    "# Gross conversion\n",
    "\"\"\"\n",
    "Gross conversion: That is, the number of user-ids to complete checkout and \n",
    "enroll in the free trial divided by the \n",
    "number of unique cookies to click the “Start free trial” button. (dmin= 0.01)\n",
    "\"\"\"\n",
    "\n",
    "## control value \n",
    "cont_grossconversion= df_control.Enrollments.sum()/df_control.loc[df_control['Enrollments'].notnull(), 'Clicks'].sum()\n",
    "\n",
    "## experimental value\n",
    "exp_grossconversion= df_experiment.Enrollments.sum()/df_experiment.loc[df_experiment['Enrollments'].notnull(), 'Clicks'].sum()\n",
    "\n",
    "\n",
    "## observed difference\n",
    "diff_grossconversion = exp_grossconversion - cont_grossconversion\n",
    "\n",
    "## Standard Error\n",
    "\n",
    "SE_grossconversion = np.sqrt((cont_grossconversion*(1-cont_grossconversion)/df_control.loc[df_control['Enrollments'].notnull(), 'Clicks'].sum()) + (exp_grossconversion*(1-exp_grossconversion))/df_experiment.loc[df_experiment['Enrollments'].notnull(), 'Clicks'].sum())\n",
    "\n",
    "## margin of error for 95% confidence interval (z = 1.96)\n",
    "\n",
    "ME_grossconversion = SE_grossconversion * 1.96\n",
    "\n",
    "## CI\n",
    "upper_grossconversion = (exp_grossconversion - cont_grossconversion) + ME_grossconversion\n",
    "lower_grossconversion = (exp_grossconversion - cont_grossconversion) - ME_grossconversion\n",
    "print(diff_grossconversion, ME_grossconversion, SE_grossconversion, upper_grossconversion, lower_grossconversion)\n"
   ]
  },
  {
   "cell_type": "code",
   "execution_count": 182,
   "id": "a6a03b7e",
   "metadata": {
    "scrolled": false
   },
   "outputs": [
    {
     "name": "stdout",
     "output_type": "stream",
     "text": [
      "-0.0048737226745441675 0.006730587137842911 0.0034339730295116894 0.0018568644632987437 -0.011604309812387078\n"
     ]
    }
   ],
   "source": [
    "\n",
    "# Net Conversion\n",
    "\n",
    "\"\"\"\"\n",
    "Net conversion: That is, number of user-ids to remain enrolled \n",
    "    past the 14-day boundary (and thus make at least one payment) \n",
    "    divided by the number of unique cookies to click the \n",
    "    “Start free trial” button. (dmin= 0.0075)\n",
    "\"\"\"\n",
    "\n",
    "\n",
    "## control value \n",
    "cont_netconversion= df_control.Payments.sum()/df_control.loc[df_control['Enrollments'].notnull(), 'Clicks'].sum()\n",
    "\n",
    "## experimental value\n",
    "exp_netconversion= df_experiment.Payments.sum()/df_experiment.loc[df_experiment['Enrollments'].notnull(), 'Clicks'].sum()\n",
    "\n",
    "\n",
    "## observed difference\n",
    "diff_netconversion = exp_netconversion - cont_netconversion\n",
    "\n",
    "## Standard Error\n",
    "\n",
    "SE_netconversion = np.sqrt((cont_netconversion*(1-cont_netconversion)/df_control.loc[df_control['Enrollments'].notnull(), 'Clicks'].sum()) + (exp_netconversion*(1-exp_netconversion))/df_experiment.loc[df_experiment['Enrollments'].notnull(), 'Clicks'].sum())\n",
    "\n",
    "## margin of error for 95% confidence interval (z = 1.96)\n",
    "\n",
    "ME_netconversion = SE_netconversion * 1.96\n",
    "\n",
    "## CI\n",
    "upper_netconversion = (exp_netconversion - cont_netconversion) + ME_netconversion\n",
    "lower_netconversion = (exp_netconversion - cont_netconversion) - ME_netconversion\n",
    "print(diff_netconversion, ME_netconversion, SE_netconversion, upper_netconversion, lower_netconversion)\n"
   ]
  },
  {
   "cell_type": "markdown",
   "id": "a0d33184",
   "metadata": {},
   "source": [
    "#### Sign Test\n",
    "The sign test is another way to validate the results above. I used this online calculator [online calculator](https://www.graphpad.com/quickcalcs/binomial1/).\n",
    "\n",
    "\n",
    "| Metrics | # of successes| # of trials per experiment | p-value for sign test| Statisically significant with $\\alpha$ = 0.05 | \n",
    "| --- | --- | --- | --- | --- | \n",
    "|Gross Conversion|4|23|0.0026|Yes|\n",
    "|Gross Conversion|10|23|0.6776|No|\n",
    "\n",
    "Please see the [Sign Test File](https://docs.google.com/spreadsheets/d/1q7lq2hec5O4jtIIcgW1lU6fx2e2AGTnC/edit?usp=sharing&ouid=108342310459873484202&rtpof=true&sd=true) for more details.\n"
   ]
  },
  {
   "cell_type": "markdown",
   "id": "960dbd99",
   "metadata": {},
   "source": [
    "### Recommendations\n",
    "This experiment introduced a screener to help filter out less dedicated students. Our results show that Gross Conversion will be reduced significantly. However, there are no significant changes in Net Conversion. The screener reduces the enrollment of less serious students. However, it doesn't affect those who would make the payments. I would not recommend launching this screener."
   ]
  }
 ],
 "metadata": {
  "kernelspec": {
   "display_name": "Python 3",
   "language": "python",
   "name": "python3"
  },
  "language_info": {
   "codemirror_mode": {
    "name": "ipython",
    "version": 3
   },
   "file_extension": ".py",
   "mimetype": "text/x-python",
   "name": "python",
   "nbconvert_exporter": "python",
   "pygments_lexer": "ipython3",
   "version": "3.8.8"
  }
 },
 "nbformat": 4,
 "nbformat_minor": 5
}
